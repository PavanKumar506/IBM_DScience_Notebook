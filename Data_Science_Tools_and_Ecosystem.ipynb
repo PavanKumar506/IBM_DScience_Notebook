{
 "cells": [
  {
   "cell_type": "markdown",
   "id": "c8401d7c",
   "metadata": {},
   "source": [
    "# Data Science Tools and Ecosystem"
   ]
  },
  {
   "cell_type": "markdown",
   "id": "49235165",
   "metadata": {},
   "source": [
    "# Data Science Tools and Ecosystem\n"
   ]
  },
  {
   "cell_type": "markdown",
   "id": "43d20b36",
   "metadata": {},
   "source": [
    "## Languages Used in Data Science\n",
    "Some of the popular languages used by data scientists include:\n",
    "- Python\n",
    "- R\n",
    "- SQL\n",
    "- Julia\n",
    "- Scala"
   ]
  },
  {
   "cell_type": "markdown",
   "id": "021ad1f7",
   "metadata": {},
   "source": []
  },
  {
   "cell_type": "markdown",
   "id": "cbe8da74",
   "metadata": {},
   "source": [
    "## Libraries Used in Data Science\n",
    "Some commonly used libraries in Data Science are:\n",
    "- Pandas\n",
    "- NumPy\n",
    "- Matplotlib\n",
    "- Scikit-learn\n",
    "- TensorFlow\n",
    "- Keras"
   ]
  },
  {
   "cell_type": "markdown",
   "id": "bdcfafd9",
   "metadata": {},
   "source": [
    "## Data Science Tools\n",
    "\n",
    "| Tool              | Category        | Description                          |\n",
    "|------------------|------------------|--------------------------------------|\n",
    "| Jupyter Notebook | IDE / Notebook  | Interactive coding environment       |\n",
    "| RStudio          | IDE             | IDE for R language                   |\n",
    "| Apache Spark     | Big Data Tool   | Large-scale data processing engine   |\n",
    "| TensorFlow       | ML Library      | Machine Learning framework by Google|\n",
    "| Power BI         | BI Tool         | Business intelligence visualization  |\n"
   ]
  },
  {
   "cell_type": "markdown",
   "id": "a356e34e",
   "metadata": {},
   "source": [
    "## Arithmetic Expressions Examples\n",
    "Below are examples of arithmetic expressions using Python code to perform basic mathematical operations like multiplication and addition."
   ]
  },
  {
   "cell_type": "code",
   "execution_count": 1,
   "id": "d7884fd7",
   "metadata": {},
   "outputs": [
    {
     "name": "stdout",
     "output_type": "stream",
     "text": [
      "Result: 17\n"
     ]
    }
   ],
   "source": [
    "# This expression multiplies 3 and 4, then adds 5\n",
    "result = (3 * 4) + 5\n",
    "print(\"Result:\", result)"
   ]
  },
  {
   "cell_type": "code",
   "execution_count": 2,
   "id": "9aab748b",
   "metadata": {},
   "outputs": [
    {
     "name": "stdout",
     "output_type": "stream",
     "text": [
      "200 minutes is equal to 3.33 hours\n"
     ]
    }
   ],
   "source": [
    "# Convert 200 minutes into hours\n",
    "minutes = 200\n",
    "hours = minutes / 60\n",
    "print(f\"{minutes} minutes is equal to {hours:.2f} hours\")"
   ]
  },
  {
   "cell_type": "markdown",
   "id": "2ca15df4",
   "metadata": {},
   "source": [
    "## Objectives\n",
    "In this notebook, you will learn:\n",
    "- Common programming languages used in Data Science\n",
    "- Popular libraries and tools in the field\n",
    "- How to use markdown in Jupyter Notebooks\n",
    "- Simple arithmetic operations in Python\n",
    "- Basic data handling concepts"
   ]
  },
  {
   "cell_type": "markdown",
   "id": "6f5b0d3c",
   "metadata": {},
   "source": [
    "## Author\n",
    "Pavan"
   ]
  }
 ],
 "metadata": {
  "kernelspec": {
   "display_name": "Python 3",
   "language": "python",
   "name": "python3"
  },
  "language_info": {
   "codemirror_mode": {
    "name": "ipython",
    "version": 3
   },
   "file_extension": ".py",
   "mimetype": "text/x-python",
   "name": "python",
   "nbconvert_exporter": "python",
   "pygments_lexer": "ipython3",
   "version": "3.13.1"
  }
 },
 "nbformat": 4,
 "nbformat_minor": 5
}
